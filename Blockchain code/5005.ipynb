{
 "cells": [
  {
   "cell_type": "code",
   "execution_count": 1,
   "id": "f41cc2ae",
   "metadata": {},
   "outputs": [],
   "source": [
    "import datetime\n",
    "import hashlib\n",
    "import json\n",
    "import requests\n",
    "from flask import Flask, jsonify, request\n",
    "from uuid import uuid4\n",
    "from urllib.parse import urlparse"
   ]
  },
  {
   "cell_type": "code",
   "execution_count": 2,
   "id": "7b7b2ee9",
   "metadata": {},
   "outputs": [],
   "source": [
    "class Blockchain:\n",
    "    \n",
    "# Creating class constructor\n",
    "    def __init__(self):                                     \n",
    "        self.chain = []                                                 \n",
    "        self.information = []                                           \n",
    "        self.create_block(proof=1, previous_hash='0')\n",
    "        self.nodes = set()\n",
    "\n",
    "# Creating genesis block\n",
    "    def create_block(self, proof, previous_hash):\n",
    "        block = {\n",
    "            'BLOCK NUMBER' : len(self.chain) + 1,\n",
    "            'Timestamp'    : str(datetime.datetime.now()),\n",
    "            'Proof'        : proof,\n",
    "            'Previous Hash': previous_hash,\n",
    "            'INFORMATION'  : self.information    \n",
    "        } \n",
    "        self.information = []\n",
    "# Adding genesis block to our chain\n",
    "        self.chain.append(block)\n",
    "        return block\n",
    "\n",
    "# Function to return previous block\n",
    "    def get_previous_block(self):  \n",
    "        return self.chain[-1]\n",
    "\n",
    "# Function for proof of work\n",
    "    def proof_of_work(self, previous_proof):\n",
    "        new_proof = 1\n",
    "        check_proof = False\n",
    "        while check_proof is False:\n",
    "            hash_operation = hashlib.sha256(\n",
    "                str(new_proof**2 - previous_proof**2).encode()).hexdigest()\n",
    "            if hash_operation[:4] == '0000':\n",
    "                check_proof = True\n",
    "            else:\n",
    "                new_proof += 1\n",
    "        return new_proof\n",
    "\n",
    "# Hashing Block\n",
    "    def hash(self, block):\n",
    "        encoded_block = json.dumps(block, sort_keys=True).encode()\n",
    "        return hashlib.sha256(encoded_block).hexdigest()\n",
    "\n",
    "# Checking Validity\n",
    "    def is_chain_valid(self, chain):\n",
    "        previous_block = chain[0]\n",
    "        block_index = 1\n",
    "        while block_index < len(chain):\n",
    "            block = chain[block_index]\n",
    "            if block['Previous Hash'] != self.hash(previous_block):\n",
    "                return False\n",
    "            previous_proof = previous_block['Proof']\n",
    "            proof = block['Proof']\n",
    "            hash_operation = hashlib.sha256(str(proof**2 - previous_proof**2).encode()).hexdigest()\n",
    "            if hash_operation[:4] != '0000':\n",
    "                return False\n",
    "            previous_block = block\n",
    "            block_index += 1\n",
    "        return True\n",
    "\n",
    "# Creating a function for adding information\n",
    "    def add_information(self, Name, Diagnose, Email, Gender, BirthDate, Address, DateJoined):\n",
    "        self.information.append({\n",
    "            'Name'         : Name,\n",
    "            'Diagnose'     : Diagnose,\n",
    "            'Email'        : Email,\n",
    "            'Gender'       : Gender,\n",
    "            'BirthDate'    : BirthDate,\n",
    "            'Address'      : Address,\n",
    "            'DateJoined'   : DateJoined\n",
    "        })\n",
    "        previous_block = self.get_previous_block()\n",
    "        return previous_block['BLOCK NUMBER'] + 1\n",
    "\n",
    "# Parsing Address\n",
    "    def add_chain(self, address):\n",
    "        parsed_url = urlparse(address)\n",
    "        self.nodes.add(parsed_url.netloc)\n",
    "\n",
    "\n",
    "    def replace_chain(self):\n",
    "        network = self.nodes\n",
    "        longest_chain = None\n",
    "        max_length = len(self.chain)\n",
    "        for node in network:\n",
    "            response = requests.get(f'http://{node}/get_chain')\n",
    "            if response.status_code == 200:\n",
    "                length = response.json()['length']\n",
    "                chain = response.json()['chain']\n",
    "                if length > max_length and self.is_chain_valid(chain):\n",
    "                    max_length = length\n",
    "                    longest_chain = chain\n",
    "            if longest_chain:\n",
    "                self.chain = longest_chain\n",
    "                return True\n",
    "            return False"
   ]
  },
  {
   "cell_type": "code",
   "execution_count": 3,
   "id": "eb6d451c",
   "metadata": {},
   "outputs": [],
   "source": [
    "app = Flask(__name__)"
   ]
  },
  {
   "cell_type": "code",
   "execution_count": 4,
   "id": "7159b939",
   "metadata": {},
   "outputs": [],
   "source": [
    "node_address = str(uuid4()).replace('-', '')"
   ]
  },
  {
   "cell_type": "code",
   "execution_count": 5,
   "id": "9df981aa",
   "metadata": {},
   "outputs": [],
   "source": [
    "blockchain = Blockchain()"
   ]
  },
  {
   "cell_type": "code",
   "execution_count": 6,
   "id": "81f60d28",
   "metadata": {},
   "outputs": [],
   "source": [
    "@app.route('/mine_block', methods=['GET'])\n",
    "def mine_block():\n",
    "    previous_block = blockchain.get_previous_block()\n",
    "    previous_proof = previous_block['Proof']\n",
    "    proof = blockchain.proof_of_work(previous_proof)\n",
    "    previous_hash = blockchain.hash(previous_block)\n",
    "    block = blockchain.create_block(proof, previous_hash)\n",
    "    response = {'message': 'MINING COMPLETE!',\n",
    "                'BLOCK NUMBER': block['BLOCK NUMBER'],\n",
    "                'Timestamp': block['Timestamp'],\n",
    "                'Proof': block['Proof'],\n",
    "                'Previous Hash': block['Previous Hash'],\n",
    "                'INFORMATION': block['INFORMATION']}\n",
    "    return jsonify(response), 200"
   ]
  },
  {
   "cell_type": "code",
   "execution_count": 7,
   "id": "95d28f12",
   "metadata": {},
   "outputs": [],
   "source": [
    "@app.route('/get_chain', methods=['GET'])\n",
    "def get_chain():\n",
    "    response = {'chain': blockchain.chain,\n",
    "                'length': len(blockchain.chain)\n",
    "                }\n",
    "    return jsonify(response), 200"
   ]
  },
  {
   "cell_type": "code",
   "execution_count": 8,
   "id": "751d8a68",
   "metadata": {},
   "outputs": [],
   "source": [
    "@app.route('/is_valid', methods=['GET'])\n",
    "def is_valid():\n",
    "    is_valid = blockchain.is_chain_valid(blockchain.chain)\n",
    "    if is_valid:\n",
    "        response = {'message': 'VALID BLOCKCHAIN.'}\n",
    "    else:\n",
    "        response = {'BLOCKCHAIN NOT VALID'}\n",
    "    return jsonify(response), 200"
   ]
  },
  {
   "cell_type": "code",
   "execution_count": 9,
   "id": "22ba0935",
   "metadata": {},
   "outputs": [],
   "source": [
    "@app.route('/add_information', methods=['POST'])\n",
    "def add_information():\n",
    "    json = request.get_json()\n",
    "    information_keys = ['Name', 'Diagnose', 'Email', 'Gender', 'BirthDate', 'Address', 'DateJoined']\n",
    "    if not all (key in json for key in information_keys):\n",
    "        return 'Some elements of the transaction are missing', 400\n",
    "    index = blockchain.add_information(json['Name'], json['Diagnose'], json['Email'], json['Gender'], json['BirthDate'],\n",
    "                                       json['Address'], json['DateJoined'])\n",
    "    response = {'message': f'This transaction will be added to block {index}'}\n",
    "    return jsonify(response), 201"
   ]
  },
  {
   "cell_type": "code",
   "execution_count": 10,
   "id": "12572df0",
   "metadata": {},
   "outputs": [],
   "source": [
    "@app.route('/connect_chain', methods=['POST'])\n",
    "def connect_chain():\n",
    "    json = request.get_json()\n",
    "    nodes = json.get('nodes')\n",
    "    if nodes is None:\n",
    "        return \"No node\", 400\n",
    "    for node in nodes:\n",
    "        blockchain.add_chain(node)\n",
    "    response = {'message': 'All chains are now connected with other blockchain',\n",
    "                'total_nodes': list(blockchain.nodes)}\n",
    "    return jsonify(response), 201"
   ]
  },
  {
   "cell_type": "code",
   "execution_count": 11,
   "id": "0def5cba",
   "metadata": {},
   "outputs": [],
   "source": [
    "@app.route('/replace_chain', methods=['GET'])\n",
    "def replace_chain():\n",
    "    is_chain_replaced = blockchain.replace_chain()\n",
    "    if is_chain_replaced:\n",
    "        response = {'message': 'Chain is replaced by larger one',\n",
    "                    'new_chain': blockchain.chain}\n",
    "    else:\n",
    "        response = {'message': 'Everything fine. The chain is the longest one',\n",
    "                    'actual_chain': blockchain.chain}\n",
    "    return jsonify(response), 200"
   ]
  },
  {
   "cell_type": "code",
   "execution_count": null,
   "id": "f3c68f67",
   "metadata": {},
   "outputs": [
    {
     "name": "stdout",
     "output_type": "stream",
     "text": [
      " * Serving Flask app \"__main__\" (lazy loading)\n",
      " * Environment: production\n",
      "   WARNING: This is a development server. Do not use it in a production deployment.\n",
      "   Use a production WSGI server instead.\n",
      " * Debug mode: off\n"
     ]
    },
    {
     "name": "stderr",
     "output_type": "stream",
     "text": [
      " * Running on http://0.0.0.0:5005/ (Press CTRL+C to quit)\n",
      "127.0.0.1 - - [03/Jan/2022 22:05:30] \"\u001b[37mGET /get_chain HTTP/1.1\u001b[0m\" 200 -\n",
      "127.0.0.1 - - [03/Jan/2022 22:05:56] \"\u001b[31m\u001b[1mGET /connect_chain HTTP/1.1\u001b[0m\" 405 -\n",
      "127.0.0.1 - - [03/Jan/2022 22:06:04] \"\u001b[31m\u001b[1mPOST /connect_chain HTTP/1.1\u001b[0m\" 400 -\n",
      "127.0.0.1 - - [03/Jan/2022 22:07:21] \"\u001b[37mPOST /connect_chain HTTP/1.1\u001b[0m\" 201 -\n",
      "127.0.0.1 - - [03/Jan/2022 22:37:24] \"\u001b[37mPOST /add_information HTTP/1.1\u001b[0m\" 201 -\n",
      "127.0.0.1 - - [03/Jan/2022 22:41:49] \"\u001b[31m\u001b[1mPOST /mine_block HTTP/1.1\u001b[0m\" 405 -\n",
      "127.0.0.1 - - [03/Jan/2022 22:41:54] \"\u001b[37mGET /mine_block HTTP/1.1\u001b[0m\" 200 -\n",
      "127.0.0.1 - - [03/Jan/2022 22:45:26] \"\u001b[37mGET /get_chain HTTP/1.1\u001b[0m\" 200 -\n",
      "127.0.0.1 - - [03/Jan/2022 22:47:57] \"\u001b[37mGET /get_chain HTTP/1.1\u001b[0m\" 200 -\n"
     ]
    }
   ],
   "source": [
    "app.run(host='0.0.0.0', port=5005)"
   ]
  },
  {
   "cell_type": "code",
   "execution_count": null,
   "id": "329fb68b",
   "metadata": {},
   "outputs": [],
   "source": []
  }
 ],
 "metadata": {
  "kernelspec": {
   "display_name": "Python 3",
   "language": "python",
   "name": "python3"
  },
  "language_info": {
   "codemirror_mode": {
    "name": "ipython",
    "version": 3
   },
   "file_extension": ".py",
   "mimetype": "text/x-python",
   "name": "python",
   "nbconvert_exporter": "python",
   "pygments_lexer": "ipython3",
   "version": "3.8.8"
  }
 },
 "nbformat": 4,
 "nbformat_minor": 5
}
